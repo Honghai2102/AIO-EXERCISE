{
  "cells": [
    {
      "cell_type": "markdown",
      "metadata": {
        "id": "view-in-github",
        "colab_type": "text"
      },
      "source": [
        "<a href=\"https://colab.research.google.com/github/Honghai2102/AIO-EXERCISE/blob/feature%2FM04EX01/Advertising_Stochastic_Problem_Question_1_2_3.ipynb\" target=\"_parent\"><img src=\"https://colab.research.google.com/assets/colab-badge.svg\" alt=\"Open In Colab\"/></a>"
      ]
    },
    {
      "cell_type": "markdown",
      "id": "9e349e20",
      "metadata": {
        "id": "9e349e20"
      },
      "source": [
        "#### Question 1"
      ]
    },
    {
      "cell_type": "code",
      "execution_count": 1,
      "id": "438ce821",
      "metadata": {
        "id": "438ce821"
      },
      "outputs": [],
      "source": [
        "# dataset\n",
        "import numpy as np\n",
        "import matplotlib.pyplot as plt\n",
        "import random\n",
        "\n",
        "def get_column(data, index):\n",
        "\n",
        "    result = [row[index] for row in data]\n",
        "\n",
        "    return result\n",
        "\n",
        "def prepare_data(file_name_dataset):\n",
        "  data = np.genfromtxt(file_name_dataset, delimiter=',', skip_header=1).tolist()\n",
        "  N = len(data)\n",
        "\n",
        "  # get tv (index=0)\n",
        "  tv_data = get_column(data, 0)\n",
        "\n",
        "  # get radio (index=1)\n",
        "  radio_data = get_column(data, 1)\n",
        "\n",
        "  # get newspaper (index=2)\n",
        "  newspaper_data = get_column(data, 2)\n",
        "\n",
        "  # get sales (index=3)\n",
        "  sales_data = get_column(data, 3)\n",
        "\n",
        "  # building X input  and y output for training\n",
        "  X = [tv_data, radio_data, newspaper_data]\n",
        "  y = sales_data\n",
        "  return X,y"
      ]
    },
    {
      "cell_type": "code",
      "source": [
        "#Multiple choices:\n",
        "#Question 1:\n",
        "X,y = prepare_data('advertising.csv')\n",
        "list = [sum(X[0][:5]), sum(X[1][:5]), sum(X[2][:5]), sum(y[:5])]\n",
        "print(list)"
      ],
      "metadata": {
        "id": "os4lMXA63lfA",
        "outputId": "e6de5ca3-43cf-4feb-ca3f-dc0ba5e158bf",
        "colab": {
          "base_uri": "https://localhost:8080/"
        }
      },
      "id": "os4lMXA63lfA",
      "execution_count": 3,
      "outputs": [
        {
          "output_type": "stream",
          "name": "stdout",
          "text": [
            "[624.1, 175.10000000000002, 300.5, 78.9]\n"
          ]
        }
      ]
    },
    {
      "cell_type": "markdown",
      "source": [
        "###Question 2"
      ],
      "metadata": {
        "id": "GnEfQX9ogT1_"
      },
      "id": "GnEfQX9ogT1_"
    },
    {
      "cell_type": "code",
      "execution_count": 4,
      "id": "cc65ed05",
      "metadata": {
        "id": "cc65ed05"
      },
      "outputs": [],
      "source": [
        "# compute output and loss\n",
        "def predict(x1, x2, x3, w1, w2, w3, b):\n",
        "\n",
        "  result = w1 * x1 + w2 * x2 + w3 * x3 + b\n",
        "\n",
        "  return result\n",
        "\n",
        "def compute_loss_mse(y_hat, y):\n",
        "\n",
        "  result = (y_hat - y) ** 2\n",
        "\n",
        "  return result\n",
        "\n",
        "def compute_loss_mae(y_hat, y):\n",
        "    return abs(y_hat - y)\n",
        "\n",
        "# compute gradient\n",
        "def compute_gradient_wi(xi, y, y_hat):\n",
        "\n",
        "  dl_dwi = 2 * (y_hat - y) * xi\n",
        "\n",
        "  return dl_dwi\n",
        "\n",
        "def compute_gradient_b(y, y_hat):\n",
        "\n",
        "  dl_db = 2 * (y_hat - y)\n",
        "\n",
        "  return dl_db\n",
        "\n",
        "# update weights\n",
        "def update_weight_wi(wi, dl_dwi, lr):\n",
        "\n",
        "  wi = wi - lr * dl_dwi\n",
        "\n",
        "  return wi\n",
        "\n",
        "def update_weight_b(b, dl_db, lr):\n",
        "\n",
        "  b = b - lr * dl_db\n",
        "\n",
        "  return b"
      ]
    },
    {
      "cell_type": "code",
      "source": [
        "#Multiple choices:\n",
        "#Question 2:\n",
        "y_p = predict(x1 = 1, x2 =1, x3=1, w1=0, w2=0.5, w3=0, b=0.5)\n",
        "print(y_p)"
      ],
      "metadata": {
        "id": "nkm9-LCSRWKv",
        "outputId": "343e833d-aa56-4718-c454-159d1af83980",
        "colab": {
          "base_uri": "https://localhost:8080/"
        }
      },
      "id": "nkm9-LCSRWKv",
      "execution_count": 5,
      "outputs": [
        {
          "output_type": "stream",
          "name": "stdout",
          "text": [
            "1.0\n"
          ]
        }
      ]
    },
    {
      "cell_type": "code",
      "source": [
        "#Multiple choices:\n",
        "#Question 3:\n",
        "l = compute_loss_mse(y_hat=1, y=0.5)\n",
        "print(l)"
      ],
      "metadata": {
        "id": "14wcs223SOQA",
        "outputId": "c0ed4306-c163-4b3b-c55a-0d23bf7c55c8",
        "colab": {
          "base_uri": "https://localhost:8080/"
        }
      },
      "id": "14wcs223SOQA",
      "execution_count": 6,
      "outputs": [
        {
          "output_type": "stream",
          "name": "stdout",
          "text": [
            "0.25\n"
          ]
        }
      ]
    },
    {
      "cell_type": "code",
      "source": [
        "#Multiple choices:\n",
        "#Question 10:\n",
        "l = compute_loss_mae(y_hat=1, y=0.5)\n",
        "print(l)"
      ],
      "metadata": {
        "id": "V0rMsFjEclbB",
        "outputId": "15b54474-b56d-4579-c014-945fb7d9d962",
        "colab": {
          "base_uri": "https://localhost:8080/"
        }
      },
      "id": "V0rMsFjEclbB",
      "execution_count": 7,
      "outputs": [
        {
          "output_type": "stream",
          "name": "stdout",
          "text": [
            "0.5\n"
          ]
        }
      ]
    },
    {
      "cell_type": "code",
      "execution_count": 8,
      "id": "28f3addc",
      "metadata": {
        "id": "28f3addc",
        "outputId": "38b80334-2010-4df7-b5c3-ed2454edcda0",
        "colab": {
          "base_uri": "https://localhost:8080/"
        }
      },
      "outputs": [
        {
          "output_type": "stream",
          "name": "stdout",
          "text": [
            "-1.0\n"
          ]
        }
      ],
      "source": [
        "#Multiple choices:\n",
        "#Question 4:\n",
        "g_wi = compute_gradient_wi(xi=1.0, y=1.0, y_hat=0.5)\n",
        "print(g_wi)"
      ]
    },
    {
      "cell_type": "code",
      "source": [
        "#Multiple choices:\n",
        "#Question 5:\n",
        "g_b =  compute_gradient_b(y=2.0, y_hat=0.5)\n",
        "print(g_b)"
      ],
      "metadata": {
        "id": "7ZO0BQYmTKfc",
        "outputId": "60ac7fe6-e7df-4239-9c57-bab026d90692",
        "colab": {
          "base_uri": "https://localhost:8080/"
        }
      },
      "id": "7ZO0BQYmTKfc",
      "execution_count": 9,
      "outputs": [
        {
          "output_type": "stream",
          "name": "stdout",
          "text": [
            "-3.0\n"
          ]
        }
      ]
    },
    {
      "cell_type": "code",
      "source": [
        "#Multiple choices:\n",
        "#Question 6:\n",
        "after_wi = update_weight_wi(wi=1.0, dl_dwi=-0.5, lr = 1e-5)\n",
        "print(after_wi)"
      ],
      "metadata": {
        "id": "6Hmq6SIPTpDu",
        "outputId": "458994ab-d4ea-4188-d2d6-6c949ff5bd66",
        "colab": {
          "base_uri": "https://localhost:8080/"
        }
      },
      "id": "6Hmq6SIPTpDu",
      "execution_count": 10,
      "outputs": [
        {
          "output_type": "stream",
          "name": "stdout",
          "text": [
            "1.000005\n"
          ]
        }
      ]
    },
    {
      "cell_type": "code",
      "source": [
        "#Multiple choices:\n",
        "#Question 7:\n",
        "after_b = update_weight_b(b=0.5, dl_db=-1.0, lr = 1e-5)\n",
        "print(after_b)\n"
      ],
      "metadata": {
        "id": "jJZp57H7Uc20",
        "outputId": "3496a6e3-a1d0-4341-c0fe-0f65a4f6fc15",
        "colab": {
          "base_uri": "https://localhost:8080/"
        }
      },
      "id": "jJZp57H7Uc20",
      "execution_count": 11,
      "outputs": [
        {
          "output_type": "stream",
          "name": "stdout",
          "text": [
            "0.50001\n"
          ]
        }
      ]
    },
    {
      "cell_type": "code",
      "execution_count": 12,
      "id": "918b429f",
      "metadata": {
        "id": "918b429f",
        "colab": {
          "base_uri": "https://localhost:8080/"
        },
        "outputId": "faec80ce-9566-4370-ca02-2590b0cf68a9"
      },
      "outputs": [
        {
          "output_type": "stream",
          "name": "stdout",
          "text": [
            "(0.016992259082509283, 0.0070783670518262355, -0.002307860847821344, 0)\n"
          ]
        }
      ],
      "source": [
        "def initialize_params():\n",
        "    # w1 = random.gauss(mu=0.0, sigma=0.01)\n",
        "    # w2 = random.gauss(mu=0.0, sigma=0.01)\n",
        "    # w3 = random.gauss(mu=0.0, sigma=0.01)\n",
        "    # b  = 0\n",
        "\n",
        "    w1, w2, w3, b = (0.016992259082509283, 0.0070783670518262355, -0.002307860847821344, 0)\n",
        "    return w1, w2, w3, b\n",
        "\n",
        "print(initialize_params())"
      ]
    },
    {
      "cell_type": "code",
      "execution_count": 12,
      "id": "c43afd0a",
      "metadata": {
        "id": "c43afd0a"
      },
      "outputs": [],
      "source": []
    },
    {
      "cell_type": "code",
      "execution_count": 13,
      "id": "94ea37a5",
      "metadata": {
        "id": "94ea37a5"
      },
      "outputs": [],
      "source": [
        "\n",
        "def implement_linear_regression(X_data, y_data, epoch_max = 50,lr = 1e-5):\n",
        "  losses = []\n",
        "\n",
        "  w1, w2, w3, b = initialize_params()\n",
        "\n",
        "  N = len(y_data)\n",
        "  for epoch in range(epoch_max):\n",
        "      for i in range(N):\n",
        "          # get a sample\n",
        "          x1 = X_data[0][i]\n",
        "          x2 = X_data[1][i]\n",
        "          x3 = X_data[2][i]\n",
        "\n",
        "          y  = y_data[i]\n",
        "\n",
        "          # print(y)\n",
        "          # compute output\n",
        "          y_hat = predict(x1, x2, x3, w1, w2, w3, b)\n",
        "\n",
        "          # compute loss\n",
        "          loss = compute_loss_mse(y, y_hat)\n",
        "\n",
        "          # compute gradient w1, w2, w3, b\n",
        "          dl_dw1 = compute_gradient_wi(x1, y, y_hat)\n",
        "          dl_dw2 = compute_gradient_wi(x2, y, y_hat)\n",
        "          dl_dw3 = compute_gradient_wi(x3, y, y_hat)\n",
        "          dl_db  = compute_gradient_b(y, y_hat)\n",
        "\n",
        "          # update parameters\n",
        "          w1 = update_weight_wi(w1, dl_dw1, lr)\n",
        "          w2 = update_weight_wi(w2, dl_dw2, lr)\n",
        "          w3 = update_weight_wi(w3, dl_dw3, lr)\n",
        "          b  = update_weight_b(b, dl_db, lr)\n",
        "\n",
        "          # logging\n",
        "          losses.append(loss)\n",
        "  return (w1,w2,w3,b, losses)"
      ]
    },
    {
      "cell_type": "code",
      "execution_count": 14,
      "id": "091d717c",
      "metadata": {
        "id": "091d717c",
        "outputId": "d5a8ff6c-07f4-4dc9-91c1-5d11ffdac7d5",
        "colab": {
          "base_uri": "https://localhost:8080/",
          "height": 449
        }
      },
      "outputs": [
        {
          "output_type": "display_data",
          "data": {
            "text/plain": [
              "<Figure size 640x480 with 1 Axes>"
            ],
            "image/png": "[encoded data removed]"
          },
          "metadata": {}
        }
      ],
      "source": [
        "X,y = prepare_data('advertising.csv')\n",
        "(w1,w2,w3,b, losses) = implement_linear_regression(X,y)\n",
        "plt.plot(losses[:100])\n",
        "plt.xlabel(\"#iteration\")\n",
        "plt.ylabel(\"Loss\")\n",
        "plt.show()"
      ]
    },
    {
      "cell_type": "code",
      "source": [
        "#Multiple choices:\n",
        "#Question 8:\n",
        "X,y = prepare_data('advertising.csv')\n",
        "(w1,w2,w3,b, losses) = implement_linear_regression(X,y)\n",
        "print(w1,w2,w3)"
      ],
      "metadata": {
        "id": "9lMEgCsiOLiR",
        "outputId": "64ee9b06-5253-405e-c4af-738eb401bf76",
        "colab": {
          "base_uri": "https://localhost:8080/"
        }
      },
      "id": "9lMEgCsiOLiR",
      "execution_count": 15,
      "outputs": [
        {
          "output_type": "stream",
          "name": "stdout",
          "text": [
            "0.07405984066396477 0.15917360263437663 0.017561197559948935\n"
          ]
        }
      ]
    },
    {
      "cell_type": "markdown",
      "id": "143c7817",
      "metadata": {
        "id": "143c7817"
      },
      "source": [
        "#### Inference"
      ]
    },
    {
      "cell_type": "code",
      "execution_count": 16,
      "id": "9042ab0f",
      "metadata": {
        "id": "9042ab0f",
        "outputId": "3e72cc9f-a41d-4825-82a6-7a2f98de6113",
        "colab": {
          "base_uri": "https://localhost:8080/"
        }
      },
      "outputs": [
        {
          "output_type": "stream",
          "name": "stdout",
          "text": [
            "predicted sales is 8.176413319549823\n"
          ]
        }
      ],
      "source": [
        "#Multiple choices:\n",
        "#Question 9:\n",
        "# given new data\n",
        "tv = 19.2\n",
        "radio = 35.9\n",
        "newspaper = 51.3\n",
        "\n",
        "X,y = prepare_data('advertising.csv')\n",
        "(w1,w2,w3,b, losses) = implement_linear_regression(X,y)\n",
        "sales = predict(tv, radio, newspaper, w1, w2, w3, b)\n",
        "print(f'predicted sales is {sales}')"
      ]
    },
    {
      "cell_type": "code",
      "execution_count": 17,
      "id": "26496013",
      "metadata": {
        "id": "26496013",
        "outputId": "6874c559-674a-424c-99e5-57169d21b6f8",
        "colab": {
          "base_uri": "https://localhost:8080/"
        }
      },
      "outputs": [
        {
          "output_type": "stream",
          "name": "stdout",
          "text": [
            "predicted sales is 24.412408996908397\n"
          ]
        }
      ],
      "source": [
        "# [230.1, 37.8, 69.2, 22.1]\n",
        "\n",
        "tv = 230.1\n",
        "radio = 37.8\n",
        "newspaper = 69.2\n",
        "\n",
        "sales = predict(tv, radio, newspaper, w1, w2, w3, b)\n",
        "print(f'predicted sales is {sales}')"
      ]
    },
    {
      "cell_type": "markdown",
      "source": [
        "###Question 3"
      ],
      "metadata": {
        "id": "HdXzHYsHh2s3"
      },
      "id": "HdXzHYsHh2s3"
    },
    {
      "cell_type": "code",
      "execution_count": 48,
      "id": "184c920e",
      "metadata": {
        "id": "184c920e"
      },
      "outputs": [],
      "source": [
        "import numpy as np\n",
        "\n",
        "\n",
        "def implement_linear_regression_nsamples(X_data, y_data, epoch_max=50, lr=1e-5):\n",
        "    losses = []  # Lưu lại các giá trị mất mát trong mỗi epoch\n",
        "\n",
        "    # Khởi tạo tham số\n",
        "    w1, w2, w3, b = initialize_params()\n",
        "    N = len(y_data)\n",
        "\n",
        "    # Bắt đầu vòng lặp qua các epoch\n",
        "    for epoch in range(epoch_max):\n",
        "\n",
        "        loss_total = 0.0  # Tổng mất mát trong mỗi epoch\n",
        "        dw1_total = 0.0  # Tổng gradient w1\n",
        "        dw2_total = 0.0  # Tổng gradient w2\n",
        "        dw3_total = 0.0  # Tổng gradient w3\n",
        "        db_total  = 0.0  # Tổng gradient b\n",
        "\n",
        "        # Duyệt qua từng sample trong N sample\n",
        "        for i in range(N):\n",
        "            # Lấy dữ liệu input (x1, x2, x3) và output (y)\n",
        "            x1 = X_data[0][i]\n",
        "            x2 = X_data[1][i]\n",
        "            x3 = X_data[2][i]\n",
        "            y = y_data[i]\n",
        "\n",
        "            # Dự đoán y_hat\n",
        "            y_hat = predict(x1, x2, x3, w1, w2, w3, b)\n",
        "\n",
        "            # Tính toán mất mát (ở đây chọn MSE)\n",
        "            loss = compute_loss_mse(y, y_hat)\n",
        "\n",
        "            # Tích lũy tổng mất mát\n",
        "            loss_total += loss\n",
        "\n",
        "            # Tính toán gradient cho w1, w2, w3, và b\n",
        "            dw1 = compute_gradient_wi(x1, y, y_hat)\n",
        "            dw2 = compute_gradient_wi(x2, y, y_hat)\n",
        "            dw3 = compute_gradient_wi(x3, y, y_hat)\n",
        "            db = compute_gradient_b(y, y_hat)\n",
        "\n",
        "            # Tích lũy gradient\n",
        "            dw1_total += dw1\n",
        "            dw2_total += dw2\n",
        "            dw3_total += dw3\n",
        "            db_total += db\n",
        "\n",
        "        # Sau khi duyệt qua toàn bộ N mẫu, cập nhật trọng số\n",
        "        w1 -= lr * dw1_total / N  # Cập nhật w1\n",
        "        w2 -= lr * dw2_total / N  # Cập nhật w2\n",
        "        w3 -= lr * dw3_total / N  # Cập nhật w3\n",
        "        b -= lr * db_total / N    # Cập nhật b\n",
        "\n",
        "        # Lưu lại giá trị mất mát trung bình trong epoch này\n",
        "        losses.append(loss_total / N)\n",
        "\n",
        "        # Log thông tin epoch (tuỳ chọn)\n",
        "        # print(f'Epoch {epoch + 1}/{epoch_max}, Loss: {loss_total/N}')\n",
        "\n",
        "    return w1, w2, w3, b, losses\n"
      ]
    },
    {
      "cell_type": "code",
      "source": [
        "X,y = prepare_data('advertising.csv')\n",
        "(w1,w2,w3,b,losses) = implement_linear_regression_nsamples(X,y,epoch_max = 1000, lr = 1e-5)\n",
        "plt.plot(losses)\n",
        "plt.xlabel(\"#epoch\")\n",
        "plt.ylabel(\"MAE Loss\")\n",
        "plt.show()"
      ],
      "metadata": {
        "colab": {
          "base_uri": "https://localhost:8080/",
          "height": 449
        },
        "id": "UbAqOKcJZ8b1",
        "outputId": "3bf18e54-106b-4976-e898-df2381c40d3c"
      },
      "id": "UbAqOKcJZ8b1",
      "execution_count": 49,
      "outputs": [
        {
          "output_type": "display_data",
          "data": {
            "text/plain": [
              "<Figure size 640x480 with 1 Axes>"
            ],
            "image/png": "[encoded data removed]"
          },
          "metadata": {}
        }
      ]
    },
    {
      "cell_type": "code",
      "source": [
        "#Multiple choices:\n",
        "#Question 11:\n",
        "X,y = prepare_data('advertising.csv')\n",
        "(w1,w2,w3,b, losses) = implement_linear_regression_nsamples(X,y,1000)\n",
        "print(w1,w2,w3)"
      ],
      "metadata": {
        "id": "o6_pCU-vQzcl",
        "colab": {
          "base_uri": "https://localhost:8080/"
        },
        "outputId": "86dee63c-7a8e-4c62-8645-b0b408e4312b"
      },
      "id": "o6_pCU-vQzcl",
      "execution_count": 50,
      "outputs": [
        {
          "output_type": "stream",
          "name": "stdout",
          "text": [
            "0.06264970431269246 0.1380784708176973 0.020015951716765595\n"
          ]
        }
      ]
    }
  ],
  "metadata": {
    "kernelspec": {
      "display_name": "Python 3 (ipykernel)",
      "language": "python",
      "name": "python3"
    },
    "language_info": {
      "codemirror_mode": {
        "name": "ipython",
        "version": 3
      },
      "file_extension": ".py",
      "mimetype": "text/x-python",
      "name": "python",
      "nbconvert_exporter": "python",
      "pygments_lexer": "ipython3",
      "version": "3.9.13"
    },
    "colab": {
      "provenance": [],
      "include_colab_link": true
    }
  },
  "nbformat": 4,
  "nbformat_minor": 5
}