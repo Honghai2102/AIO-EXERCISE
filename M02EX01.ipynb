{
  "nbformat": 4,
  "nbformat_minor": 0,
  "metadata": {
    "colab": {
      "provenance": [],
      "authorship_tag": "ABX9TyNmJh+UTDs9p8nMgGTGfLty",
      "include_colab_link": true
    },
    "kernelspec": {
      "name": "python3",
      "display_name": "Python 3"
    },
    "language_info": {
      "name": "python"
    }
  },
  "cells": [
    {
      "cell_type": "markdown",
      "metadata": {
        "id": "view-in-github",
        "colab_type": "text"
      },
      "source": [
        "<a href=\"https://colab.research.google.com/github/Honghai2102/AIO-EXERCISE/blob/feature%2FM02EX01/M02EX01.ipynb\" target=\"_parent\"><img src=\"https://colab.research.google.com/assets/colab-badge.svg\" alt=\"Open In Colab\"/></a>"
      ]
    },
    {
      "cell_type": "markdown",
      "source": [
        "12. Hoàn thành đoạn code sau đây để chuyển ảnh màu sang ảnh xám dựa vào phương pháp Lightness:"
      ],
      "metadata": {
        "id": "0J06dixratMi"
      }
    },
    {
      "cell_type": "code",
      "source": [
        "!gdown 1i9dqan21DjQoG5Q_VEvm0LrVwAlXD0vB"
      ],
      "metadata": {
        "colab": {
          "base_uri": "https://localhost:8080/"
        },
        "id": "6rlh_gK-bF-M",
        "outputId": "9b5cd269-7e16-4281-aee4-0fca53bb6aac"
      },
      "execution_count": 26,
      "outputs": [
        {
          "output_type": "stream",
          "name": "stdout",
          "text": [
            "Downloading...\n",
            "From: https://drive.google.com/uc?id=1i9dqan21DjQoG5Q_VEvm0LrVwAlXD0vB\n",
            "To: /content/dog.jpeg\n",
            "\r  0% 0.00/33.7k [00:00<?, ?B/s]\r100% 33.7k/33.7k [00:00<00:00, 45.0MB/s]\n"
          ]
        }
      ]
    },
    {
      "cell_type": "code",
      "execution_count": 28,
      "metadata": {
        "colab": {
          "base_uri": "https://localhost:8080/"
        },
        "id": "daCZda2-YDkf",
        "outputId": "f0731f68-99fb-4cf9-8dc0-8e2eb1208b6e"
      },
      "outputs": [
        {
          "output_type": "execute_result",
          "data": {
            "text/plain": [
              "102.5"
            ]
          },
          "metadata": {},
          "execution_count": 28
        }
      ],
      "source": [
        "import matplotlib.image as mpimg\n",
        "import numpy as np\n",
        "\n",
        "# Read the image\n",
        "img = mpimg.imread('/content/dog.jpeg')\n",
        "\n",
        "# Convert the image to grayscale using the Lightness method\n",
        "gray_img_01 = np.mean(np.stack([img.min(axis=2), img.max(axis=2)]), axis=0)\n",
        "\n",
        "# Output the value at [0, 0]\n",
        "gray_img_01[0, 0]"
      ]
    },
    {
      "cell_type": "markdown",
      "source": [
        "13. Hoàn thành đoạn code sau đây để chuyển ảnh màu sang ảnh xám dựa vào\n",
        "phương pháp Average:"
      ],
      "metadata": {
        "id": "l1FJKvuGdKZ9"
      }
    },
    {
      "cell_type": "code",
      "source": [
        "# Import necessary libraries\n",
        "import matplotlib.image as mpimg\n",
        "import numpy as np\n",
        "\n",
        "# Read the image\n",
        "img = mpimg.imread('/content/dog.jpeg')\n",
        "\n",
        "# Convert the image to grayscale using the Average method\n",
        "gray_img_02 = np.mean(img, axis=2)\n",
        "\n",
        "# Output the value at [0, 0]\n",
        "print(gray_img_02[0, 0])\n",
        "\n",
        "# Print the RGB values at [0, 0]\n",
        "print(\"RGB values at [0, 0]:\", img[0, 0])\n",
        "\n",
        "# Calculate the grayscale value using the Average method\n",
        "average_value = np.mean(img[0, 0])\n",
        "print(\"Average at [0, 0]:\", average_value)"
      ],
      "metadata": {
        "colab": {
          "base_uri": "https://localhost:8080/"
        },
        "id": "SbNXau9gdK3D",
        "outputId": "4590cabe-8bde-4d2b-9932-11cdcc70ef5b"
      },
      "execution_count": 30,
      "outputs": [
        {
          "output_type": "stream",
          "name": "stdout",
          "text": [
            "107.66666666666667\n",
            "RGB values at [0, 0]: [118 134  71]\n",
            "Average at [0, 0]: 107.66666666666667\n"
          ]
        }
      ]
    },
    {
      "cell_type": "markdown",
      "source": [
        "14. Hoàn thành đoạn code sau đây để chuyển ảnh màu sang ảnh xám dựa vào\n",
        "phương pháp Luminosity:"
      ],
      "metadata": {
        "id": "ySRrAzCvd0rH"
      }
    },
    {
      "cell_type": "code",
      "source": [
        "# Import necessary libraries\n",
        "import matplotlib.image as mpimg\n",
        "import numpy as np\n",
        "\n",
        "# Read the image\n",
        "img = mpimg.imread('/content/dog.jpeg')\n",
        "\n",
        "# Convert the image to grayscale using the Luminosity method\n",
        "gray_img_03 = 0.21 * img[:, :, 0] + 0.72 * img[:, :, 1] + 0.07 * img[:, :, 2]\n",
        "\n",
        "# Output the value at [0, 0]\n",
        "print(\"Gray value at [0, 0]:\", gray_img_03[0, 0])\n"
      ],
      "metadata": {
        "colab": {
          "base_uri": "https://localhost:8080/"
        },
        "id": "dL2IsZ_7d0zW",
        "outputId": "fca532cd-0613-43b1-e2fb-4c6a2c35a0bc"
      },
      "execution_count": 33,
      "outputs": [
        {
          "output_type": "stream",
          "name": "stdout",
          "text": [
            "Gray value at [0, 0]: 126.22999999999999\n"
          ]
        }
      ]
    },
    {
      "cell_type": "markdown",
      "source": [
        "**Bài tập 3: Phân tích dữ liệu dạng bảng**"
      ],
      "metadata": {
        "id": "8L4XmYOSeJdR"
      }
    },
    {
      "cell_type": "markdown",
      "source": [],
      "metadata": {
        "id": "GAAro_0HeeiX"
      }
    },
    {
      "cell_type": "code",
      "source": [
        "!gdown 1iA0WmVfW88HyJvTBSQDI5vesf-pgKabq"
      ],
      "metadata": {
        "colab": {
          "base_uri": "https://localhost:8080/"
        },
        "id": "0RAUAwwfeJmD",
        "outputId": "38f5d7ae-7d66-4ce3-c21f-061c613e13b7"
      },
      "execution_count": 34,
      "outputs": [
        {
          "output_type": "stream",
          "name": "stdout",
          "text": [
            "Downloading...\n",
            "From: https://drive.google.com/uc?id=1iA0WmVfW88HyJvTBSQDI5vesf-pgKabq\n",
            "To: /content/advertising.csv\n",
            "\r  0% 0.00/4.06k [00:00<?, ?B/s]\r100% 4.06k/4.06k [00:00<00:00, 11.1MB/s]\n"
          ]
        }
      ]
    },
    {
      "cell_type": "markdown",
      "source": [
        "Câu hỏi 15: Lấy giá trị lớn nhất và chỉ mục tương ứng của nó trên cột Sales:"
      ],
      "metadata": {
        "id": "Kw1cn_kkf-o7"
      }
    },
    {
      "cell_type": "code",
      "source": [
        "# Import necessary libraries\n",
        "import pandas as pd\n",
        "\n",
        "# Read the CSV file into a DataFrame\n",
        "df = pd.read_csv('/content/advertising.csv')\n",
        "\n",
        "# Find the maximum value in the \"Sales\" column\n",
        "max_value = df['Sales'].max()\n",
        "\n",
        "# Find the index of the maximum value in the \"Sales\" column\n",
        "max_index = df['Sales'].idxmax()\n",
        "\n",
        "# Print the results\n",
        "print(\"Maximum value in 'Sales' column:\", max_value)\n",
        "print(\"Index of maximum value in 'Sales' column:\", max_index)\n"
      ],
      "metadata": {
        "colab": {
          "base_uri": "https://localhost:8080/"
        },
        "id": "xnB-xAQyenNc",
        "outputId": "60ea1ea8-91d6-4eb8-a49e-54bec720e301"
      },
      "execution_count": 36,
      "outputs": [
        {
          "output_type": "stream",
          "name": "stdout",
          "text": [
            "Maximum value in 'Sales' column: 27.0\n",
            "Index of maximum value in 'Sales' column: 175\n"
          ]
        }
      ]
    },
    {
      "cell_type": "markdown",
      "source": [
        "Câu hỏi 16: Giá trị trung bình của cột TV là:"
      ],
      "metadata": {
        "id": "HgQgii9cf7S-"
      }
    },
    {
      "cell_type": "code",
      "source": [
        "# Calculate the mean value of the \"TV\" column\n",
        "mean_tv = df['TV'].mean()\n",
        "\n",
        "# Print the result\n",
        "print(\"Mean value of 'TV' column:\", mean_tv)"
      ],
      "metadata": {
        "colab": {
          "base_uri": "https://localhost:8080/"
        },
        "id": "Ijt-yYPTfbgX",
        "outputId": "9c8e483b-6f2b-4cf1-eda5-1039bba56627"
      },
      "execution_count": 37,
      "outputs": [
        {
          "output_type": "stream",
          "name": "stdout",
          "text": [
            "Mean value of 'TV' column: 147.0425\n"
          ]
        }
      ]
    },
    {
      "cell_type": "markdown",
      "source": [
        "Câu hỏi 17: Số lượng bản ghi có giá trị tại cột Sales lớn hơn hoặc bằng 20 là:"
      ],
      "metadata": {
        "id": "Y9tfmScBf4sc"
      }
    },
    {
      "cell_type": "code",
      "source": [
        "# Count the number of records where the \"Sales\" value is greater than or equal to 20\n",
        "count_sales_ge_20 = (df['Sales'] >= 20).sum()\n",
        "\n",
        "# Print the result\n",
        "print(\"Number of records with 'Sales' >= 20:\", count_sales_ge_20)"
      ],
      "metadata": {
        "colab": {
          "base_uri": "https://localhost:8080/"
        },
        "id": "P2B1jwfqfsic",
        "outputId": "a99d9ce9-d472-4221-9aec-8f7b9cd0b137"
      },
      "execution_count": 38,
      "outputs": [
        {
          "output_type": "stream",
          "name": "stdout",
          "text": [
            "Number of records with 'Sales' >= 20: 40\n"
          ]
        }
      ]
    },
    {
      "cell_type": "markdown",
      "source": [
        "Câu hỏi 18: Tính giá trị trung bình của cột Radio thoả mãn điều kiện giá trị tương ứng trên cột Sales lớn hơn hoặc bằng 15:"
      ],
      "metadata": {
        "id": "3dStfvuogCa_"
      }
    },
    {
      "cell_type": "code",
      "source": [
        "# Filter the DataFrame for rows where \"Sales\" >= 15\n",
        "filtered_df = df[df['Sales'] >= 15]\n",
        "\n",
        "# Calculate the mean value of the \"Radio\" column for the filtered rows\n",
        "mean_radio = filtered_df['Radio'].mean()\n",
        "\n",
        "# Print the result\n",
        "print(\"Mean value of 'Radio' column for 'Sales' >= 15:\", mean_radio)"
      ],
      "metadata": {
        "colab": {
          "base_uri": "https://localhost:8080/"
        },
        "id": "Zat2XZ_3gECO",
        "outputId": "38dce5d1-32ef-4cb5-992a-37a490c52d93"
      },
      "execution_count": 39,
      "outputs": [
        {
          "output_type": "stream",
          "name": "stdout",
          "text": [
            "Mean value of 'Radio' column for 'Sales' >= 15: 26.22293577981651\n"
          ]
        }
      ]
    },
    {
      "cell_type": "markdown",
      "source": [
        "Câu hỏi 19: Tính tổng các hàng của cột Sales với điều kiện giá trị Newspaper lớn hơn giá trị trung bình của cột Newspaper:"
      ],
      "metadata": {
        "id": "fboe8j-ngeRU"
      }
    },
    {
      "cell_type": "code",
      "source": [
        "# Calculate the mean value of the \"Newspaper\" column\n",
        "mean_newspaper = df['Newspaper'].mean()\n",
        "\n",
        "# Filter the DataFrame for rows where \"Newspaper\" > mean_newspaper\n",
        "filtered_df = df[df['Newspaper'] > mean_newspaper]\n",
        "\n",
        "# Calculate the sum of the \"Sales\" column for the filtered rows\n",
        "sum_sales_filtered = filtered_df['Sales'].sum()\n",
        "\n",
        "# Print the result\n",
        "print(\"Sum of 'Sales' column where 'Newspaper' > mean of 'Newspaper':\", sum_sales_filtered)"
      ],
      "metadata": {
        "colab": {
          "base_uri": "https://localhost:8080/"
        },
        "id": "Fwzk3dM2gep4",
        "outputId": "e2201c63-8d27-4570-b989-45bc10812020"
      },
      "execution_count": 40,
      "outputs": [
        {
          "output_type": "stream",
          "name": "stdout",
          "text": [
            "Sum of 'Sales' column where 'Newspaper' > mean of 'Newspaper': 1405.1\n"
          ]
        }
      ]
    },
    {
      "cell_type": "markdown",
      "source": [
        "Câu hỏi 20: Gọi giá trị trung bình của cột Sales là A. Tạo ra mảng mới scores chứa các giá trị Good, Average và Bad sao cho: nếu giá trị hiện tại > A => giá trị trong mảng mới là Good, < A thì sẽ là Bad và = A sẽ là Average. Sau đó in ra kết quả scores[7:10]"
      ],
      "metadata": {
        "id": "SbVNBFSCg3Er"
      }
    },
    {
      "cell_type": "code",
      "source": [
        "# Calculate the mean value of the \"Sales\" column\n",
        "mean_sales = df['Sales'].mean()\n",
        "\n",
        "# Create a new array 'scores' based on conditions\n",
        "scores = []\n",
        "for value in df['Sales']:\n",
        "    if value > mean_sales:\n",
        "        scores.append('Good')\n",
        "    elif value < mean_sales:\n",
        "        scores.append('Bad')\n",
        "    else:\n",
        "        scores.append('Average')\n",
        "\n",
        "# Print the result for scores[7:10]\n",
        "print(\"Result for scores[7:10]:\", scores[7:10])"
      ],
      "metadata": {
        "colab": {
          "base_uri": "https://localhost:8080/"
        },
        "id": "fipnXyOug8BA",
        "outputId": "0012fbe7-2580-4a0f-adf3-cac7dbcd95a3"
      },
      "execution_count": 41,
      "outputs": [
        {
          "output_type": "stream",
          "name": "stdout",
          "text": [
            "Result for scores[7:10]: ['Bad', 'Bad', 'Good']\n"
          ]
        }
      ]
    },
    {
      "cell_type": "markdown",
      "source": [
        "Câu hỏi 21: Gọi giá trị trên cột Sales gần nhất với giá trị trung bình cũng chính cột Sales là A. Tạo ra mảng mới scores chứa các giá trị Good, Average và Bad sao cho: nếu giá trị hiện tại > A => giá trị trong mảng mới là Good, < A thì sẽ là Bad và = A sẽ là Average. Sau đó in ra kết quả scores[7:10]"
      ],
      "metadata": {
        "id": "knEw59v1hElU"
      }
    },
    {
      "cell_type": "code",
      "source": [
        "# Calculate the mean value of the \"Sales\" column\n",
        "mean_sales = df['Sales'].mean()\n",
        "\n",
        "# Find the closest value to the mean in the \"Sales\" column\n",
        "closest_value = df['Sales'].iloc[(df['Sales'] - mean_sales).abs().argsort()[:1]].values[0]\n",
        "\n",
        "# Create a new array 'scores' based on conditions\n",
        "scores = []\n",
        "for value in df['Sales']:\n",
        "    if value > closest_value:\n",
        "        scores.append('Good')\n",
        "    elif value < closest_value:\n",
        "        scores.append('Bad')\n",
        "    else:\n",
        "        scores.append('Average')\n",
        "\n",
        "# Print the result for scores[7:10]\n",
        "print(\"Result for scores[7:10]:\", scores[7:10])"
      ],
      "metadata": {
        "colab": {
          "base_uri": "https://localhost:8080/"
        },
        "id": "8Nrplx7LhE7M",
        "outputId": "6832abd3-44f0-4de8-a830-64c30d993d9c"
      },
      "execution_count": 44,
      "outputs": [
        {
          "output_type": "stream",
          "name": "stdout",
          "text": [
            "Result for scores[7:10]: ['Bad', 'Bad', 'Good']\n"
          ]
        }
      ]
    }
  ]
}